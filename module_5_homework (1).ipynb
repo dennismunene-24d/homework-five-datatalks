{
 "cells": [
  {
   "cell_type": "code",
   "execution_count": 1,
   "id": "fb89efe2-69e8-4f8e-bfed-0c37a77513d4",
   "metadata": {},
   "outputs": [],
   "source": [
    "import pyspark\n",
    "from pyspark.sql import SparkSession"
   ]
  },
  {
   "cell_type": "code",
   "execution_count": 2,
   "id": "5b61b71a-13d8-4e18-9ba9-d0b9c90aae7d",
   "metadata": {},
   "outputs": [
    {
     "name": "stderr",
     "output_type": "stream",
     "text": [
      "Setting default log level to \"WARN\".\n",
      "To adjust logging level use sc.setLogLevel(newLevel). For SparkR, use setLogLevel(newLevel).\n"
     ]
    },
    {
     "name": "stdout",
     "output_type": "stream",
     "text": [
      "25/03/08 13:51:52 WARN NativeCodeLoader: Unable to load native-hadoop library for your platform... using builtin-java classes where applicable\n"
     ]
    }
   ],
   "source": [
    "spark = SparkSession.builder \\\n",
    "    .master(\"local[*]\") \\\n",
    "    .appName('test') \\\n",
    "    .getOrCreate()"
   ]
  },
  {
   "cell_type": "code",
   "execution_count": 3,
   "id": "e58ef5d4-d9c5-48be-940a-bcd92983766f",
   "metadata": {},
   "outputs": [
    {
     "data": {
      "text/plain": [
       "'3.3.2'"
      ]
     },
     "execution_count": 3,
     "metadata": {},
     "output_type": "execute_result"
    }
   ],
   "source": [
    "pyspark.__version__"
   ]
  },
  {
   "cell_type": "code",
   "execution_count": 4,
   "id": "446fa796-10dc-4e43-b2ac-3c7dd5dcdbe3",
   "metadata": {},
   "outputs": [
    {
     "name": "stderr",
     "output_type": "stream",
     "text": [
      "                                                                                \r"
     ]
    }
   ],
   "source": [
    "df = spark.read \\\n",
    "    .option(\"header\", \"true\") \\\n",
    "    .parquet(\"/home/dpeter/data-engineering-zoomcamp/05-batch/code/module_05_homework/yellow_tripdata_2024-10.parquet\")"
   ]
  },
  {
   "cell_type": "code",
   "execution_count": 5,
   "id": "38959e0c-f34c-4431-bb78-d22b61b2f7cc",
   "metadata": {},
   "outputs": [
    {
     "name": "stderr",
     "output_type": "stream",
     "text": [
      "                                                                                \r"
     ]
    }
   ],
   "source": [
    "output_path = \"/home/dpeter/data-engineering-zoomcamp/05-batch/code/module_05_homework/output\"\n",
    "\n",
    "df \\\n",
    "    .repartition(4) \\\n",
    "    .write \\\n",
    "    .mode(\"overwrite\") \\\n",
    "    .parquet(output_path)"
   ]
  },
  {
   "cell_type": "code",
   "execution_count": 6,
   "id": "0bcd625b-eaf3-4eab-8b1e-9fe42935f4a4",
   "metadata": {},
   "outputs": [
    {
     "name": "stderr",
     "output_type": "stream",
     "text": [
      "/home/dpeter/spark/spark-3.3.2-bin-hadoop3/python/pyspark/sql/dataframe.py:229: FutureWarning: Deprecated in 2.0, use createOrReplaceTempView instead.\n",
      "  warnings.warn(\"Deprecated in 2.0, use createOrReplaceTempView instead.\", FutureWarning)\n"
     ]
    }
   ],
   "source": [
    "df.registerTempTable('df_sql')"
   ]
  },
  {
   "cell_type": "code",
   "execution_count": 7,
   "id": "8ecc9ae5-c23e-4a3a-807b-ae849b484b6a",
   "metadata": {},
   "outputs": [
    {
     "name": "stdout",
     "output_type": "stream",
     "text": [
      "+--------+--------------------+---------------------+---------------+-------------+----------+------------------+------------+------------+------------+-----------+-----+-------+----------+------------+---------------------+------------+--------------------+-----------+\n",
      "|VendorID|tpep_pickup_datetime|tpep_dropoff_datetime|passenger_count|trip_distance|RatecodeID|store_and_fwd_flag|PULocationID|DOLocationID|payment_type|fare_amount|extra|mta_tax|tip_amount|tolls_amount|improvement_surcharge|total_amount|congestion_surcharge|Airport_fee|\n",
      "+--------+--------------------+---------------------+---------------+-------------+----------+------------------+------------+------------+------------+-----------+-----+-------+----------+------------+---------------------+------------+--------------------+-----------+\n",
      "|       2| 2024-10-01 00:30:44|  2024-10-01 00:48:26|              1|          3.0|         1|                 N|         162|         246|           1|       18.4|  1.0|    0.5|       1.5|         0.0|                  1.0|        24.9|                 2.5|        0.0|\n",
      "|       1| 2024-10-01 00:12:20|  2024-10-01 00:25:25|              1|          2.2|         1|                 N|          48|         236|           1|       14.2|  3.5|    0.5|       3.8|         0.0|                  1.0|        23.0|                 2.5|        0.0|\n",
      "|       1| 2024-10-01 00:04:46|  2024-10-01 00:13:52|              1|          2.7|         1|                 N|         142|          24|           1|       13.5|  3.5|    0.5|       3.7|         0.0|                  1.0|        22.2|                 2.5|        0.0|\n",
      "|       1| 2024-10-01 00:12:10|  2024-10-01 00:23:01|              1|          3.1|         1|                 N|         233|          75|           1|       14.2|  3.5|    0.5|       2.0|         0.0|                  1.0|        21.2|                 2.5|        0.0|\n",
      "|       1| 2024-10-01 00:30:22|  2024-10-01 00:30:39|              1|          0.0|         1|                 N|         262|         262|           3|        3.0|  3.5|    0.5|       0.0|         0.0|                  1.0|         8.0|                 2.5|        0.0|\n",
      "|       2| 2024-10-01 00:31:20|  2024-10-01 00:36:00|              2|         0.97|         1|                 N|         137|         137|           1|        7.2|  1.0|    0.5|      2.44|         0.0|                  1.0|       14.64|                 2.5|        0.0|\n",
      "|       1| 2024-10-01 00:42:57|  2024-10-01 00:49:01|              1|          1.3|         1|                 N|         142|          48|           1|        7.9|  3.5|    0.5|      2.55|         0.0|                  1.0|       15.45|                 2.5|        0.0|\n",
      "|       1| 2024-10-01 00:59:55|  2024-10-01 01:02:24|              1|          0.5|         1|                 N|         230|         161|           1|        5.1|  3.5|    0.5|       2.0|         0.0|                  1.0|        12.1|                 2.5|        0.0|\n",
      "|       1| 2024-10-01 00:00:47|  2024-10-01 00:04:22|              0|          1.1|         1|                 N|         142|         237|           1|        7.2|  3.5|    0.5|       3.0|         0.0|                  1.0|        15.2|                 2.5|        0.0|\n",
      "|       1| 2024-10-01 00:17:36|  2024-10-01 00:26:22|              1|          2.2|         1|                 N|         162|         145|           1|       11.4|  3.5|    0.5|       3.3|         0.0|                  1.0|        19.7|                 2.5|        0.0|\n",
      "|       1| 2024-10-01 00:49:00|  2024-10-01 00:52:20|              1|          0.6|         1|                 N|         229|         162|           1|        5.1|  3.5|    0.5|       2.0|         0.0|                  1.0|        12.1|                 2.5|        0.0|\n",
      "|       2| 2024-10-01 00:07:26|  2024-10-01 00:13:20|              1|          0.9|         1|                 N|         162|         162|           1|        7.9|  1.0|    0.5|      3.87|         0.0|                  1.0|       16.77|                 2.5|        0.0|\n",
      "|       2| 2024-10-01 00:17:11|  2024-10-01 00:25:00|              1|         1.33|         1|                 N|         162|         230|           1|        9.3|  1.0|    0.5|       2.0|         0.0|                  1.0|        16.3|                 2.5|        0.0|\n",
      "|       2| 2024-10-01 00:00:34|  2024-10-01 00:05:13|              1|         1.79|         1|                 N|         211|         234|           1|        9.3|  1.0|    0.5|      2.86|         0.0|                  1.0|       17.16|                 2.5|        0.0|\n",
      "|       2| 2024-09-30 23:58:40|  2024-10-01 00:20:26|              1|         5.16|         1|                 N|         142|           7|           1|       24.7|  1.0|    0.5|       0.0|         0.0|                  1.0|        29.7|                 2.5|        0.0|\n",
      "|       1| 2024-10-01 00:55:29|  2024-10-01 01:42:35|              1|         11.3|        99|                 N|         161|         197|           1|       39.5|  0.0|    0.5|       0.0|        6.94|                  1.0|       47.94|                 0.0|        0.0|\n",
      "|       1| 2024-10-01 00:08:59|  2024-10-01 00:40:58|              1|         20.6|         1|                 N|         132|         243|           2|       76.5| 2.75|    0.5|       0.0|        6.94|                  1.0|       87.69|                 0.0|       1.75|\n",
      "|       2| 2024-10-01 00:18:38|  2024-10-01 00:36:47|              2|         7.42|         1|                 N|         239|         247|           4|      -33.1| -1.0|   -0.5|       0.0|         0.0|                 -1.0|       -38.1|                -2.5|        0.0|\n",
      "|       2| 2024-10-01 00:18:38|  2024-10-01 00:36:47|              2|         7.42|         1|                 N|         239|         247|           4|       33.1|  1.0|    0.5|       0.0|         0.0|                  1.0|        38.1|                 2.5|        0.0|\n",
      "|       2| 2024-10-01 00:39:33|  2024-10-01 00:53:59|              1|         4.49|         1|                 N|         247|          60|           2|       21.9|  1.0|    0.5|       0.0|         0.0|                  1.0|        24.4|                 0.0|        0.0|\n",
      "+--------+--------------------+---------------------+---------------+-------------+----------+------------------+------------+------------+------------+-----------+-----+-------+----------+------------+---------------------+------------+--------------------+-----------+\n",
      "only showing top 20 rows\n",
      "\n"
     ]
    }
   ],
   "source": [
    "df_table = spark.sql(\"\"\" \n",
    "                    SELECT * FROM df_sql\"\"\")\n",
    "df_table.show()"
   ]
  },
  {
   "cell_type": "code",
   "execution_count": 8,
   "id": "583ced32-0b68-4fc7-8cd0-5db210cf60ac",
   "metadata": {},
   "outputs": [
    {
     "data": {
      "text/plain": [
       "['VendorID',\n",
       " 'tpep_pickup_datetime',\n",
       " 'tpep_dropoff_datetime',\n",
       " 'passenger_count',\n",
       " 'trip_distance',\n",
       " 'RatecodeID',\n",
       " 'store_and_fwd_flag',\n",
       " 'PULocationID',\n",
       " 'DOLocationID',\n",
       " 'payment_type',\n",
       " 'fare_amount',\n",
       " 'extra',\n",
       " 'mta_tax',\n",
       " 'tip_amount',\n",
       " 'tolls_amount',\n",
       " 'improvement_surcharge',\n",
       " 'total_amount',\n",
       " 'congestion_surcharge',\n",
       " 'Airport_fee']"
      ]
     },
     "execution_count": 8,
     "metadata": {},
     "output_type": "execute_result"
    }
   ],
   "source": [
    "df.columns"
   ]
  },
  {
   "cell_type": "code",
   "execution_count": 10,
   "id": "ab77a724-f2d5-477b-85d4-e276bf8ad987",
   "metadata": {},
   "outputs": [
    {
     "name": "stderr",
     "output_type": "stream",
     "text": [
      "[Stage 5:=============================>                             (2 + 2) / 4]\r"
     ]
    },
    {
     "name": "stdout",
     "output_type": "stream",
     "text": [
      "+--------+\n",
      "|count(1)|\n",
      "+--------+\n",
      "|  128893|\n",
      "+--------+\n",
      "\n"
     ]
    },
    {
     "name": "stderr",
     "output_type": "stream",
     "text": [
      "                                                                                \r"
     ]
    }
   ],
   "source": [
    "df_question_3 = spark.sql(\"\"\"\n",
    "    SELECT COUNT(*)\n",
    "    FROM df_sql\n",
    "    WHERE date_format(tpep_pickup_datetime, 'yyyy-MM-dd') = '2024-10-15'\n",
    "\"\"\") \n",
    "df_question_3.show()"
   ]
  },
  {
   "cell_type": "code",
   "execution_count": 10,
   "id": "b84e8020-14ba-4767-9527-732f3e866eca",
   "metadata": {},
   "outputs": [
    {
     "name": "stdout",
     "output_type": "stream",
     "text": [
      "+-------------------+\n",
      "|trip_duration_hours|\n",
      "+-------------------+\n",
      "| 162.61777777777777|\n",
      "+-------------------+\n",
      "\n"
     ]
    },
    {
     "name": "stderr",
     "output_type": "stream",
     "text": [
      "                                                                                \r"
     ]
    }
   ],
   "source": [
    "df_question_4 = spark.sql(\"\"\"\n",
    "    SELECT \n",
    "           (unix_timestamp(tpep_dropoff_datetime) - unix_timestamp(tpep_pickup_datetime)) / 3600 AS trip_duration_hours\n",
    "    FROM \n",
    "        df_sql\n",
    "    ORDER BY \n",
    "        trip_duration_hours DESC\n",
    "    LIMIT 1\n",
    "\"\"\")\n",
    "\n",
    "\n",
    "df_question_4.show()"
   ]
  },
  {
   "cell_type": "code",
   "execution_count": 17,
   "id": "e3dd9558-51e4-4a0f-85c3-b087a4165a05",
   "metadata": {},
   "outputs": [
    {
     "name": "stdout",
     "output_type": "stream",
     "text": [
      "+----------+-------------+--------------------+------------+\n",
      "|LocationID|      Borough|                Zone|service_zone|\n",
      "+----------+-------------+--------------------+------------+\n",
      "|         1|          EWR|      Newark Airport|         EWR|\n",
      "|         2|       Queens|         Jamaica Bay|   Boro Zone|\n",
      "|         3|        Bronx|Allerton/Pelham G...|   Boro Zone|\n",
      "|         4|    Manhattan|       Alphabet City| Yellow Zone|\n",
      "|         5|Staten Island|       Arden Heights|   Boro Zone|\n",
      "|         6|Staten Island|Arrochar/Fort Wad...|   Boro Zone|\n",
      "|         7|       Queens|             Astoria|   Boro Zone|\n",
      "|         8|       Queens|        Astoria Park|   Boro Zone|\n",
      "|         9|       Queens|          Auburndale|   Boro Zone|\n",
      "|        10|       Queens|        Baisley Park|   Boro Zone|\n",
      "|        11|     Brooklyn|          Bath Beach|   Boro Zone|\n",
      "|        12|    Manhattan|        Battery Park| Yellow Zone|\n",
      "|        13|    Manhattan|   Battery Park City| Yellow Zone|\n",
      "|        14|     Brooklyn|           Bay Ridge|   Boro Zone|\n",
      "|        15|       Queens|Bay Terrace/Fort ...|   Boro Zone|\n",
      "|        16|       Queens|             Bayside|   Boro Zone|\n",
      "|        17|     Brooklyn|             Bedford|   Boro Zone|\n",
      "|        18|        Bronx|        Bedford Park|   Boro Zone|\n",
      "|        19|       Queens|           Bellerose|   Boro Zone|\n",
      "|        20|        Bronx|             Belmont|   Boro Zone|\n",
      "|        21|     Brooklyn|    Bensonhurst East|   Boro Zone|\n",
      "|        22|     Brooklyn|    Bensonhurst West|   Boro Zone|\n",
      "|        23|Staten Island|Bloomfield/Emerso...|   Boro Zone|\n",
      "|        24|    Manhattan|        Bloomingdale| Yellow Zone|\n",
      "|        25|     Brooklyn|         Boerum Hill|   Boro Zone|\n",
      "|        26|     Brooklyn|        Borough Park|   Boro Zone|\n",
      "|        27|       Queens|Breezy Point/Fort...|   Boro Zone|\n",
      "|        28|       Queens|Briarwood/Jamaica...|   Boro Zone|\n",
      "|        29|     Brooklyn|      Brighton Beach|   Boro Zone|\n",
      "|        30|       Queens|       Broad Channel|   Boro Zone|\n",
      "|        31|        Bronx|          Bronx Park|   Boro Zone|\n",
      "|        32|        Bronx|           Bronxdale|   Boro Zone|\n",
      "|        33|     Brooklyn|    Brooklyn Heights|   Boro Zone|\n",
      "|        34|     Brooklyn|  Brooklyn Navy Yard|   Boro Zone|\n",
      "|        35|     Brooklyn|         Brownsville|   Boro Zone|\n",
      "|        36|     Brooklyn|      Bushwick North|   Boro Zone|\n",
      "|        37|     Brooklyn|      Bushwick South|   Boro Zone|\n",
      "|        38|       Queens|     Cambria Heights|   Boro Zone|\n",
      "|        39|     Brooklyn|            Canarsie|   Boro Zone|\n",
      "|        40|     Brooklyn|     Carroll Gardens|   Boro Zone|\n",
      "|        41|    Manhattan|      Central Harlem|   Boro Zone|\n",
      "|        42|    Manhattan|Central Harlem North|   Boro Zone|\n",
      "|        43|    Manhattan|        Central Park| Yellow Zone|\n",
      "|        44|Staten Island|Charleston/Totten...|   Boro Zone|\n",
      "|        45|    Manhattan|           Chinatown| Yellow Zone|\n",
      "|        46|        Bronx|         City Island|   Boro Zone|\n",
      "|        47|        Bronx|  Claremont/Bathgate|   Boro Zone|\n",
      "|        48|    Manhattan|        Clinton East| Yellow Zone|\n",
      "|        49|     Brooklyn|        Clinton Hill|   Boro Zone|\n",
      "|        50|    Manhattan|        Clinton West| Yellow Zone|\n",
      "|        51|        Bronx|          Co-Op City|   Boro Zone|\n",
      "|        52|     Brooklyn|         Cobble Hill|   Boro Zone|\n",
      "|        53|       Queens|       College Point|   Boro Zone|\n",
      "|        54|     Brooklyn|     Columbia Street|   Boro Zone|\n",
      "|        55|     Brooklyn|        Coney Island|   Boro Zone|\n",
      "|        56|       Queens|              Corona|   Boro Zone|\n",
      "|        57|       Queens|              Corona|   Boro Zone|\n",
      "|        58|        Bronx|        Country Club|   Boro Zone|\n",
      "|        59|        Bronx|        Crotona Park|   Boro Zone|\n",
      "|        60|        Bronx|   Crotona Park East|   Boro Zone|\n",
      "|        61|     Brooklyn| Crown Heights North|   Boro Zone|\n",
      "|        62|     Brooklyn| Crown Heights South|   Boro Zone|\n",
      "|        63|     Brooklyn|       Cypress Hills|   Boro Zone|\n",
      "|        64|       Queens|          Douglaston|   Boro Zone|\n",
      "|        65|     Brooklyn|Downtown Brooklyn...|   Boro Zone|\n",
      "|        66|     Brooklyn|  DUMBO/Vinegar Hill|   Boro Zone|\n",
      "|        67|     Brooklyn|       Dyker Heights|   Boro Zone|\n",
      "|        68|    Manhattan|        East Chelsea| Yellow Zone|\n",
      "|        69|        Bronx|East Concourse/Co...|   Boro Zone|\n",
      "|        70|       Queens|       East Elmhurst|   Boro Zone|\n",
      "|        71|     Brooklyn|East Flatbush/Far...|   Boro Zone|\n",
      "|        72|     Brooklyn|East Flatbush/Rem...|   Boro Zone|\n",
      "|        73|       Queens|       East Flushing|   Boro Zone|\n",
      "|        74|    Manhattan|   East Harlem North|   Boro Zone|\n",
      "|        75|    Manhattan|   East Harlem South|   Boro Zone|\n",
      "|        76|     Brooklyn|       East New York|   Boro Zone|\n",
      "|        77|     Brooklyn|East New York/Pen...|   Boro Zone|\n",
      "|        78|        Bronx|        East Tremont|   Boro Zone|\n",
      "|        79|    Manhattan|        East Village| Yellow Zone|\n",
      "|        80|     Brooklyn|   East Williamsburg|   Boro Zone|\n",
      "|        81|        Bronx|         Eastchester|   Boro Zone|\n",
      "|        82|       Queens|            Elmhurst|   Boro Zone|\n",
      "|        83|       Queens|    Elmhurst/Maspeth|   Boro Zone|\n",
      "|        84|Staten Island|Eltingville/Annad...|   Boro Zone|\n",
      "|        85|     Brooklyn|             Erasmus|   Boro Zone|\n",
      "|        86|       Queens|        Far Rockaway|   Boro Zone|\n",
      "|        87|    Manhattan|Financial Distric...| Yellow Zone|\n",
      "|        88|    Manhattan|Financial Distric...| Yellow Zone|\n",
      "|        89|     Brooklyn|Flatbush/Ditmas Park|   Boro Zone|\n",
      "|        90|    Manhattan|            Flatiron| Yellow Zone|\n",
      "|        91|     Brooklyn|           Flatlands|   Boro Zone|\n",
      "|        92|       Queens|            Flushing|   Boro Zone|\n",
      "|        93|       Queens|Flushing Meadows-...|   Boro Zone|\n",
      "|        94|        Bronx|       Fordham South|   Boro Zone|\n",
      "|        95|       Queens|        Forest Hills|   Boro Zone|\n",
      "|        96|       Queens|Forest Park/Highl...|   Boro Zone|\n",
      "|        97|     Brooklyn|         Fort Greene|   Boro Zone|\n",
      "|        98|       Queens|       Fresh Meadows|   Boro Zone|\n",
      "|        99|Staten Island|     Freshkills Park|   Boro Zone|\n",
      "|       100|    Manhattan|    Garment District| Yellow Zone|\n",
      "+----------+-------------+--------------------+------------+\n",
      "only showing top 100 rows\n",
      "\n"
     ]
    }
   ],
   "source": [
    "csv_path = \"/home/dpeter/data-engineering-zoomcamp/05-batch/code/module_05_homework/taxi_zone_lookup.csv\"\n",
    "taxi_zone_df = spark.read.csv(csv_path, header=True, inferSchema=True)\n",
    "taxi_zone_df.createOrReplaceTempView(\"taxi_zone_lookup\")\n",
    "taxi_zone_df.show(100)"
   ]
  },
  {
   "cell_type": "code",
   "execution_count": 18,
   "id": "f915cd57-53d6-4a3a-ae08-d5a953323d2c",
   "metadata": {},
   "outputs": [
    {
     "name": "stderr",
     "output_type": "stream",
     "text": [
      "[Stage 20:==============>                                           (1 + 3) / 4]\r"
     ]
    },
    {
     "name": "stdout",
     "output_type": "stream",
     "text": [
      "+------------------+--------------------+--------+\n",
      "|pickup_location_id|     pickup_location|count(1)|\n",
      "+------------------+--------------------+--------+\n",
      "|               105|Governor's Island...|       1|\n",
      "|               199|       Rikers Island|       2|\n",
      "|                 5|       Arden Heights|       2|\n",
      "|                 2|         Jamaica Bay|       3|\n",
      "|               111| Green-Wood Cemetery|       3|\n",
      "|               204|   Rossville/Woodrow|       4|\n",
      "|               187|       Port Richmond|       4|\n",
      "|               245|       West Brighton|       4|\n",
      "|                44|Charleston/Totten...|       4|\n",
      "|                84|Eltingville/Annad...|       4|\n",
      "|               109|         Great Kills|       6|\n",
      "|                59|        Crotona Park|       6|\n",
      "|               156|     Mariners Harbor|       7|\n",
      "|               118|Heartland Village...|       7|\n",
      "|               176|             Oakwood|       9|\n",
      "|               206|Saint George/New ...|       9|\n",
      "|                30|       Broad Channel|      10|\n",
      "|               172|New Dorp/Midland ...|      10|\n",
      "|               184|     Pelham Bay Park|      12|\n",
      "|               251|         Westerleigh|      12|\n",
      "+------------------+--------------------+--------+\n",
      "only showing top 20 rows\n",
      "\n"
     ]
    },
    {
     "name": "stderr",
     "output_type": "stream",
     "text": [
      "                                                                                \r"
     ]
    }
   ],
   "source": [
    "df_question_6 = spark.sql(\"\"\"\n",
    "    SELECT \n",
    "           PULocationID AS pickup_location_id,\n",
    "            Zone AS pickup_location,\n",
    "           COUNT(*)\n",
    "    FROM \n",
    "        df_sql\n",
    "    INNER JOIN\n",
    "        taxi_zone_lookup\n",
    "    ON\n",
    "        df_sql.PULocationID = taxi_zone_lookup.LocationID\n",
    "    GROUP BY\n",
    "        1,2\n",
    "    ORDER BY\n",
    "        3 \n",
    "\"\"\")\n",
    "df_question_6.show()"
   ]
  },
  {
   "cell_type": "code",
   "execution_count": null,
   "id": "f23245a0-60c0-4083-9379-0855fc0b74a3",
   "metadata": {},
   "outputs": [],
   "source": []
  }
 ],
 "metadata": {
  "kernelspec": {
   "display_name": "Python 3 (ipykernel)",
   "language": "python",
   "name": "python3"
  },
  "language_info": {
   "codemirror_mode": {
    "name": "ipython",
    "version": 3
   },
   "file_extension": ".py",
   "mimetype": "text/x-python",
   "name": "python",
   "nbconvert_exporter": "python",
   "pygments_lexer": "ipython3",
   "version": "3.12.2"
  }
 },
 "nbformat": 4,
 "nbformat_minor": 5
}
